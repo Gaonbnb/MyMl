{
 "metadata": {
  "language_info": {
   "codemirror_mode": {
    "name": "ipython",
    "version": 3
   },
   "file_extension": ".py",
   "mimetype": "text/x-python",
   "name": "python",
   "nbconvert_exporter": "python",
   "pygments_lexer": "ipython3",
   "version": 3
  },
  "orig_nbformat": 2
 },
 "nbformat": 4,
 "nbformat_minor": 2,
 "cells": [
  {
   "cell_type": "code",
   "execution_count": null,
   "metadata": {},
   "outputs": [],
   "source": [
    "from sklearn.datasets import load_breast_cancer\n",
    "from sklearn.ensemble import RandomForestClassifier\n",
    "from sklearn.model_selection import GridSearchCV\n",
    "from sklearn.model_selection import cross_val_score\n",
    "import matplotlib.pyplot as plt\n",
    "import pandas as pd\n",
    "import numpy as np\n",
    "\n",
    "data = load_breast_cancer()\n",
    "data.data.shape\n",
    "data.target\n",
    "\n",
    "rfc = RandomForestClassifier(n_estimators=100, random_state=90)\n",
    "score_pre= cross_val_score(rfc, data.data, data.target, cv=10).mean()\n",
    "score_pre"
   ]
  },
  {
   "cell_type": "code",
   "execution_count": null,
   "metadata": {},
   "outputs": [],
   "source": [
    "\"\"\"\n",
    "在这里我们会选择学习曲线，可以使用网格搜索吗？可以，但是只有学习曲线，才能看见趋势\n",
    "个人倾向是，要看见n_estimators在什么取值开始变得平稳，是否一值推动模型整体准确率的上升等信息\n",
    "第一次的学习曲线，可以先用来帮助我们划定范围，我们取每十个数作为一个阶段，来观察n_estimators的变化如何\n",
    "引起模型整体准确率的变化\n",
    "\"\"\"\n",
    "score1 = []\n",
    "for i in range(0, 200, 10):\n",
    "    rfc = RandomForestClassifier(n_estimators=i+1,\n",
    "    n_jobs=-1,\n",
    "    random_state=90)\n",
    "    score = cross_val_score(rfc, data.data, data.target, cv=10).mean()\n",
    "    score1.append(score)\n",
    "# list.index([object])\n",
    "# 返回这个object在list中的索引\n",
    "# 需要乘十 再加1，符合i的值\n",
    "\n",
    "print(max(score1), (score1.index(max(score1)) * 10) + 1)\n",
    "plt.figure(figsize=[20, 5])\n",
    "plt.plot(range(1, 201, 10), score1)\n",
    "plt.show()\n",
    "\n"
   ]
  },
  {
   "cell_type": "code",
   "execution_count": null,
   "metadata": {},
   "outputs": [],
   "source": [
    "score1 = []\n",
    "for i in range(35, 45):\n",
    "    rfc = RandomForestClassifier(n_estimators=i, \n",
    "                                    n_jobs= -1\n",
    "                                    , random_state=90)\n",
    "    score = cross_val_score(rfc, data.data, data.target, cv = 10).mean()\n",
    "    score1.append(score)\n",
    "#[*range]形成一个列表，后面的[]是索引\n",
    "print(max(score1), [*range(35, 45)][score1.index(max(score1))])\n",
    "plt.figure(figsize=[20, 5])\n",
    "plt.plot(range(35, 45), score1)\n",
    "plt.show()"
   ]
  },
  {
   "cell_type": "code",
   "execution_count": null,
   "metadata": {},
   "outputs": [],
   "source": [
    "# 调整max_depth,value是矩阵\n",
    "param_grid = {('max_depth'):np.arange(1, 20, 1)}\n",
    "# 具体看笔记中的记录，不断的一个一个调整参数"
   ]
  }
 ]
}