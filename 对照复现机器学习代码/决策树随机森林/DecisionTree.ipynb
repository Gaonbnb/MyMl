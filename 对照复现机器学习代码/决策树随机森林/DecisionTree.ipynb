{
 "metadata": {
  "language_info": {
   "codemirror_mode": {
    "name": "ipython",
    "version": 3
   },
   "file_extension": ".py",
   "mimetype": "text/x-python",
   "name": "python",
   "nbconvert_exporter": "python",
   "pygments_lexer": "ipython3",
   "version": 3
  },
  "orig_nbformat": 2
 },
 "nbformat": 4,
 "nbformat_minor": 2,
 "cells": [
  {
   "cell_type": "code",
   "execution_count": null,
   "metadata": {},
   "outputs": [],
   "source": [
    "from sklearn import tree\n",
    "from sklearn.datasets import load_wine\n",
    "from sklearn.model_selection import train_test_split\n",
    "import pandas as pd\n",
    "import graphviz\n",
    "import matplotlib.pyplot as plt\n",
    "\n",
    "wine = load_wine()\n",
    "pd.concat([pd.DataFrame(wine.data), pd.DataFrame(wine.target)], axis=1)\n"
   ]
  },
  {
   "cell_type": "code",
   "execution_count": null,
   "metadata": {},
   "outputs": [],
   "source": [
    "x_train, x_valid, y_train, y_valid = train_test_split(wine.data, wine.target, test_size=0.3)\n",
    "clf = tree.DecisionTreeClassifier(criterion=\"entropy\")\n",
    "clf.fit(x_train, y_train)\n",
    "score = clf.score(x_valid, y_valid)\n",
    "score\n",
    "\n",
    "feature_name = ['酒精', '苹果酸', '灰', '灰的碱性', '镁', '总酚', '类黄素', '非黄烷类分类', '花青素', '颜色强度', '色调', '稀释葡萄酒', '脯氨酸']\n",
    "dot_data = tree.export_graphviz(clf\n",
    "                                ,feature_names=feature_name\n",
    "                                ,class_names=[\"琴酒\", \"雪梨\", \"贝尔摩德\"]\n",
    "                                ,filled=True\n",
    "                                ,rounded=True\n",
    "                                )\n",
    "graph = graphviz.Source(dot_data)\n",
    "graph\n"
   ]
  },
  {
   "cell_type": "code",
   "execution_count": null,
   "metadata": {},
   "outputs": [],
   "source": [
    "clf.feature_importances_\n",
    "[*zip(feature_name, clf.feature_importances_)]"
   ]
  },
  {
   "cell_type": "code",
   "execution_count": null,
   "metadata": {},
   "outputs": [],
   "source": [
    "clf = tree.DecisionTreeClassifier(criterion=\"entropy\", random_state=30)\n",
    "clf = clf.fit(x_train, y_train)\n",
    "score = clf.score(x_valid, y_valid)\n",
    "score\n",
    "clf = tree.DecisionTreeClassifier(criterion=\"entropy\"\n",
    "                                    ,random_state=30\n",
    "                                    ,splitter=\"random\"\n",
    "                                    ,max_depth=3\n",
    "                                    ,min_samples_leaf=10\n",
    "                                    ,min_samples_split=10\n",
    "                                    )\n",
    "clf = clf.fit(x_train, y_train)\n",
    "score = clf.score(x_valid, y_valid)\n",
    "print(score)\n",
    "dot_data = tree.export_graphviz(clf\n",
    "                                ,feature_names=feature_name\n",
    "                                ,class_names=[\"琴酒\", \"雪梨\", \"贝尔摩德\"]\n",
    "                                ,filled=True\n",
    "                                ,rounded=True\n",
    "                                )\n",
    "graph = graphviz.Source(dot_data)\n",
    "graph\n",
    "\n"
   ]
  },
  {
   "cell_type": "code",
   "execution_count": null,
   "metadata": {},
   "outputs": [],
   "source": [
    "test = []\n",
    "for i in range(10):\n",
    "    clf = tree.DecisionTreeClassifier(max_depth=i+1\n",
    "                                        ,criterion=\"entropy\"\n",
    "                                        ,random_state=30\n",
    "                                        ,splitter=\"random\"\n",
    "    )\n",
    "    clf = clf.fit(x_train, y_train)\n",
    "    score = clf.score(x_valid, y_valid)\n",
    "    test.append(score)\n",
    "\n",
    "plt.plot(range(1, 11), test, color=\"red\", label=\"max_depth\")\n",
    "plt.legend()\n",
    "plt.show()\n",
    "\n",
    "from sklearn.datasets import load_boston\n",
    "from sklearn.model_selection import cross_val_score\n",
    "from sklearn.tree import DecisionTreeRegressor\n",
    "\n",
    "boston = load_boston()\n",
    "regressor = DecisionTreeRegressor(random_state=0)\n",
    "# 交叉验证\n",
    "#cross_val_score(regressor, boston.data, boston.target, cv=10) r^2\n",
    "cross_val_score(regressor, boston.data, boston.target, cv=10\n",
    "                ,scoring=\"neg_mean_squared_error\")\n"
   ]
  },
  {
   "cell_type": "code",
   "execution_count": null,
   "metadata": {},
   "outputs": [],
   "source": [
    "# 实例回归一维数据\n",
    "import numpy as np\n",
    "from sklearn.tree import DecisionTreeRegressor\n",
    "import matplotlib.pyplot as plt\n",
    "# 生成随机数种子，是随机稳定\n",
    "rng = np.random.RandomState(1)\n",
    "# 生成0-1,且不能为一维,生成的是二维的80*1矩阵\n",
    "#5 * rng.rand(80, 1)\n",
    "X = np.sort(5 * rng.rand(80, 1), axis=0)\n",
    "# y只能有一维数据，ravel（）降维n维变成n-1维。一维数组不分行列\n",
    "y = np.sin(X).ravel()\n",
    "#plt.figure()\n",
    "#plt.scatter(X, y, s=20, edgecolors=\"black\", c=\"darkorange\", label=\"data\")\n",
    "#plt.legend()\n",
    "#不可能搞到完全相同的数据，需要有一些噪声，通过给每个数字加上随机数\n",
    "#np.romdom.rand(数据结构)随机生成随机数\n",
    "y[::5] += 3 * (0.5 - rng.rand(16))\n",
    "plt.figure()\n",
    "plt.scatter(X, y, s=20, edgecolors=\"black\", c=\"darkorange\", label=\"data\")\n",
    "plt.legend()"
   ]
  },
  {
   "cell_type": "code",
   "execution_count": null,
   "metadata": {},
   "outputs": [],
   "source": []
  }
 ]
}