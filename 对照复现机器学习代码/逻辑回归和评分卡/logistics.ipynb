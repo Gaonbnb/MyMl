{
 "metadata": {
  "language_info": {
   "codemirror_mode": {
    "name": "ipython",
    "version": 3
   },
   "file_extension": ".py",
   "mimetype": "text/x-python",
   "name": "python",
   "nbconvert_exporter": "python",
   "pygments_lexer": "ipython3",
   "version": 3
  },
  "orig_nbformat": 2
 },
 "nbformat": 4,
 "nbformat_minor": 2,
 "cells": [
  {
   "cell_type": "code",
   "execution_count": null,
   "metadata": {},
   "outputs": [],
   "source": [
    "# 使用嵌入法进行logistic 的特征工程\n",
    "from sklearn.linear_model import LogisticRegression as LR\n",
    "from sklearn.datasets import load_breast_cancer\n",
    "import numpy as np\n",
    "import matplotlib.pyplot as plt\n",
    "from sklearn.model_selection import cross_val_score\n",
    "from sklearn.feature_selection import SelectFromModel\n",
    "from sklearn.model_selection import train_test_split\n",
    "from sklearn.metrics import accuracy_score"
   ]
  },
  {
   "cell_type": "code",
   "execution_count": null,
   "metadata": {},
   "outputs": [],
   "source": [
    "data = load_breast_cancer()\n",
    "data.data.shape\n",
    "LR_ = LR(solver='liblinear', C=0.9, random_state=420)\n",
    "cross_val_score(LR_, data.data, data.target, cv=10).mean()\n",
    "# 使用L1范式进行筛选，删掉在范式下判定无效的特征\n",
    "x_embedded = SelectFromModel(LR_, norm_order=1).fit_transform(data.data, data.target)\n",
    "x_embedded.shape\n",
    "\n",
    "# 改良，对threshold加上改变，看看每个系数这个重要性的变化\n",
    "fullx = []\n",
    "fsx = []\n",
    "# 这时我们选择的指标就是逻辑回归中的系数而不是L1范数\n",
    "threshold = np.linspace(0, abs(LR_.fit(data.data, data.target).coef_).max(), 20)\n",
    "k = 0\n",
    "for i in threshold:\n",
    "    x_embedded = SelectFromModel(LR_, threshold=i).fit_transform(data.data, data.target)\n",
    "    fullx.append(cross_val_score(LR_, data.data, data.target, cv=4).mean())\n",
    "    fsx.append(cross_val_score(LR_, x_embedded, data.target, cv=5).mean())\n",
    "    print((threshold[k], x_embedded.shape[1]))\n",
    "    k += 1\n",
    "plt.figure(figsize=(20, 5))\n",
    "plt.plot(threshold, fullx, label='full')\n",
    "plt.plot(threshold, fsx, label='feature selection')\n",
    "plt.xticks(threshold)\n",
    "plt.legend()\n",
    "plt.show()    \n",
    "###调整二， 调整C\n",
    "C = np.arange(0.01, 10.01, 0.5)#C = .0.666"
   ]
  },
  {
   "cell_type": "code",
   "execution_count": null,
   "metadata": {},
   "outputs": [],
   "source": [
    "LR_ = LR(solver=\"liblinear\", C=6.06, random_state=420)\n",
    "cross_val_score(LR_, data.data, data.target, cv=10).mean()#0.97\n",
    "LR_ = LR(solver=\"liblinear\", C=6.06, random_state=420)\n",
    "x_embedded = SelectFromModel(LR_, norm_order=1).fit_transform(data.data, data.target)\n",
    "cross_val_score(LR_, x_embedded, data.target, cv=10).mean()\n",
    "x_embedded.shape#特征只剩下9个"
   ]
  },
  {
   "cell_type": "code",
   "execution_count": null,
   "metadata": {},
   "outputs": [],
   "source": [
    "# 乳腺癌数据分析\n",
    "from sklearn.datasets import load_breast_cancer\n",
    "data = load_breast_cancer()\n",
    "x = data.data\n",
    "y = data.target\n",
    "l2 = []\n",
    "l2test = []\n",
    "\n",
    "x_train, x_valid, y_train, y_valid = train_test_split(x, y, test_size=0.3, random_state=420)\n",
    "for i in np.arange(1, 201, 10):\n",
    "    # 迭代次数\n",
    "    lrl2 = LR(penalty=\"l2\", solver=\"liblinear\", C=0.8, max_iter=i)\n",
    "    lrl2 = lrl2.fit(x_train, y_train)\n",
    "    l2.append(accuracy_score(lrl2.predict(x_train), y_train))\n",
    "    l2test.append(accuracy_score(lrl2.predict(x_valid), y_valid))\n",
    "\n",
    "graph = [l2, l2test]\n",
    "color = [\"black\", \"gray\"]\n",
    "label = [\"L2\", \"L2test\"]\n",
    "plt.figure(figsize=(20, 5))\n",
    "for i in range(len(graph)):\n",
    "    plt.plot(np.arange(1, 201, 10), graph[i], color=color[i], label=label[i])\n",
    "plt.legend(loc=4)\n",
    "plt.xticks(np.arange(1, 201, 10))\n",
    "plt.show()"
   ]
  },
  {
   "cell_type": "code",
   "execution_count": null,
   "metadata": {},
   "outputs": [],
   "source": [
    "# 我们可以使用属性.n_iter_来调用本次求解中的真正需要的迭代次数\n",
    "lr = LR(penalty=\"l2\", solver=\"liblinear\", C=0.9, max_iter=300).fit(x_train, y_train)\n",
    "lr.n_iter_\n",
    "# 当参数是libinearzhong ,可能斯塔未收敛 sag,但是只要模型的训练和预测效果不错，就不用再增大max——iter的数目，无所谓说是没收敛，万一收敛了还可能过度收敛\n",
    "\n"
   ]
  },
  {
   "cell_type": "code",
   "execution_count": null,
   "metadata": {},
   "outputs": [],
   "source": [
    "# 比较分类器\n",
    "from sklearn.datasets import load_iris\n",
    "from sklearn.linear_model import LogisticRegression\n",
    "iris = load_iris()\n",
    "for multi_class in (\"multinomial\", \"ovr\"):\n",
    "    clf = LogisticRegression(solver=\"sag\", max_iter=100, random_state=42, multi_class=multi_class).fit(iris.data, iris.target)\n",
    "# 打印两种multi_class模式下的训练分数\n",
    "# %,代替字符串，%.3f代表保留三位小数，%s是字符串的意思\n",
    "# % 后面用元组来存储变量()\n",
    "    print(\"training score: %.3f (%s)\" % (clf.score(iris.data, iris.target), multi_class))\n",
    "\n",
    "\n"
   ]
  }
 ]
}